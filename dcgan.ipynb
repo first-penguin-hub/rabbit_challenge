{
  "cells": [
    {
      "cell_type": "markdown",
      "metadata": {
        "id": "view-in-github",
        "colab_type": "text"
      },
      "source": [
        "<a href=\"https://colab.research.google.com/github/first-penguin-hub/rabbit_challenge/blob/main/dcgan.ipynb\" target=\"_parent\"><img src=\"https://colab.research.google.com/assets/colab-badge.svg\" alt=\"Open In Colab\"/></a>"
      ]
    },
    {
      "cell_type": "markdown",
      "source": [
        "# 準備"
      ],
      "metadata": {
        "id": "Fr35RhCb36q6"
      }
    },
    {
      "cell_type": "markdown",
      "source": [
        "## Google Colab 用の処理\n",
        "\n",
        "下記を実行します\n",
        "- ドライブのマウント\n",
        "- ノートブックファイルと同じフォルダへの移動\n",
        "\n",
        "Googleドライブのマイドライブ を基準に DNN_code/DNN_code_colab_day4 フォルダを置くことを仮定しています。必要に応じて，パスを変更してください．"
      ],
      "metadata": {
        "id": "LLYLr8oA3_gK"
      }
    },
    {
      "cell_type": "code",
      "execution_count": null,
      "source": [
        "# Google Colab での実行かを調べる\n",
        "import sys\n",
        "import os\n",
        "ENV_COLAB = True  if 'google.colab' in sys.modules else False\n",
        "\n",
        "# google drive のマウント\n",
        "if ENV_COLAB:\n",
        "  from google.colab import drive\n",
        "  drive.mount('/content/drive')\n",
        "  os.chdir('/content/drive/My Drive/StudyAI/DNN_code_colab_day4/notebook/4_10_code_dcgan')"
      ],
      "outputs": [
        {
          "output_type": "stream",
          "name": "stdout",
          "text": [
            "Drive already mounted at /content/drive; to attempt to forcibly remount, call drive.mount(\"/content/drive\", force_remount=True).\n"
          ]
        }
      ],
      "metadata": {
        "colab": {
          "base_uri": "https://localhost:8080/"
        },
        "id": "19zGodGt4JEl",
        "outputId": "0880092c-ea7b-40e5-f990-715a1ae65445"
      }
    },
    {
      "cell_type": "markdown",
      "source": [
        "# DCGAN による画像生成"
      ],
      "metadata": {
        "id": "iaDN2a554Dq9"
      }
    },
    {
      "cell_type": "code",
      "execution_count": null,
      "source": [
        "import glob\n",
        "from pathlib import Path\n",
        "\n",
        "import numpy as np\n",
        "from PIL import Image\n",
        "\n",
        "from model_dcgan import DCGAN\n"
      ],
      "outputs": [],
      "metadata": {
        "id": "kfXtXsB7iEAg"
      }
    },
    {
      "cell_type": "code",
      "execution_count": null,
      "source": [
        "def convert_img_to_npy(\n",
        "    img_dir='\"./img_data', cond=\"*.png\", save_path=\"./train_data/train_data\"\n",
        "    ):\n",
        "    \"\"\"画像ファイル群を学習データ用にnumpy形式に変換する関数\n",
        "    学習データが既にあれば実行する必要無し\n",
        "\n",
        "    Args:\n",
        "        img_dir (str): 画像ファイルがあるフォルダ. Defaults to \"./img_data\".\n",
        "        cond (str): 変換する画像の条件. Defaults to \"*.png\".\n",
        "        save_path (str): 変換後の保存先. Defaults to \"./train_data/train_data\".\n",
        "    \"\"\"\n",
        "    dataset = []\n",
        "    img_path = str(Path(img_dir) / cond)\n",
        "    print(\"Loading Image Data from \" + img_dir)\n",
        "    for idx, img_path in enumerate(glob.glob(img_path)):\n",
        "        # (height,width,channels)\n",
        "        img_data = Image.open(img_path)\n",
        "        print(str(idx) + \" data loaded\")\n",
        "        # (1,height,width,channels)\n",
        "        img_data = np.expand_dims(img_data, axis=0)\n",
        "        if idx == 0:\n",
        "            dataset = img_data\n",
        "        else:\n",
        "            dataset = np.concatenate([dataset, img_data], axis=0)\n",
        "\n",
        "    dataset = (dataset - 127.5) / 127.5\n",
        "    np.save(save_path, dataset)\n",
        "    print(\"Train Data Saved\")\n",
        "\n",
        "convert_img_to_npy()"
      ],
      "outputs": [],
      "metadata": {
        "id": "xmw6B6WBiEAj"
      }
    },
    {
      "cell_type": "code",
      "execution_count": null,
      "source": [
        "args_dict = {\n",
        "    'exp_name': \"exp_2\", # 実験名(この名前のフォルダが./expに生成される)\n",
        "    \"noize_dim\": 100, # Gの入力乱数ベクトルの次元\n",
        "    \"batch_size\": 128, # バッチサイズ\n",
        "    \"num_epoch\": 100, # 学習エポック数\n",
        "    \"make_logs\": True, # D,GのLossをLogとして記録するかどうか\n",
        "    \"restore_ckpt\": False, # 学習済みモデルのckptを読み込むかどうか\n",
        "    \"sample_freq\": 10, # 学習中の画像生成頻度(エポック数)\n",
        "    \"ckpt_freq\": 10, # 学習中のckpt保存頻度(エポック数)\n",
        "    \"adam\": {\"lr\":2e-4, # 学習率\n",
        "            \"beta_1\":0.5,\n",
        "            \"beta_2\":0.9,\n",
        "            \"epsilon\":1e-8}\n",
        "    }"
      ],
      "outputs": [],
      "metadata": {
        "id": "kIl4XMiziEAl"
      }
    },
    {
      "cell_type": "code",
      "execution_count": null,
      "source": [
        "train_data_path = \"./train_data/train_data.npy\"\n",
        "# 学習データサイズ(data_num, H:64, W:64, RGB:3), 値の範囲は[-1,1]\n",
        "print(\"Loading Train Data\")\n",
        "train_data = np.load(train_data_path)\n",
        "print(\"Train Data Loaded\")"
      ],
      "outputs": [],
      "metadata": {
        "id": "AT65FV6oiEAl"
      }
    },
    {
      "cell_type": "code",
      "execution_count": null,
      "source": [
        "model = DCGAN(args_dict)"
      ],
      "outputs": [],
      "metadata": {
        "id": "LRb1nWf4iEAm"
      }
    },
    {
      "cell_type": "code",
      "execution_count": null,
      "source": [
        "model.train(train_data)"
      ],
      "outputs": [],
      "metadata": {
        "id": "AhP3teZTiEAn"
      }
    },
    {
      "cell_type": "code",
      "execution_count": null,
      "source": [
        "# 学習済みモデルを用いて画像生成\n",
        "model.generate_img()"
      ],
      "outputs": [],
      "metadata": {
        "id": "SdcSPRIciEAn"
      }
    },
    {
      "cell_type": "code",
      "execution_count": null,
      "source": [],
      "outputs": [],
      "metadata": {
        "id": "B8JedzA8R-bx"
      }
    }
  ],
  "metadata": {
    "accelerator": "GPU",
    "colab": {
      "provenance": [],
      "include_colab_link": true
    },
    "interpreter": {
      "hash": "fc4a78780ec9c8f5fd41b12b5329a21350b5c7c69ca5abee6b7cfefb9cdbec51"
    },
    "kernelspec": {
      "name": "python3",
      "display_name": "Python 3.7.9 64-bit ('.venv': poetry)"
    },
    "language_info": {
      "codemirror_mode": {
        "name": "ipython",
        "version": 3
      },
      "file_extension": ".py",
      "mimetype": "text/x-python",
      "name": "python",
      "nbconvert_exporter": "python",
      "pygments_lexer": "ipython3",
      "version": "3.7.9"
    }
  },
  "nbformat": 4,
  "nbformat_minor": 0
}